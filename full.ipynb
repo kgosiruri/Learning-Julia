{
 "cells": [
  {
   "cell_type": "markdown",
   "id": "f425dd6d",
   "metadata": {},
   "source": [
    "#### Julia Package in Python Notebook\n",
    "\n",
    "IJulia used."
   ]
  },
  {
   "cell_type": "code",
   "execution_count": null,
   "id": "543ce943",
   "metadata": {},
   "outputs": [],
   "source": [
    "using Pkg\n",
    "Pkg.add(\"IJulia\")"
   ]
  },
  {
   "cell_type": "markdown",
   "id": "b90ed1e7",
   "metadata": {},
   "source": [
    "#### Basic commands\n",
    "Hello world"
   ]
  },
  {
   "cell_type": "code",
   "execution_count": 1,
   "id": "5f576a98",
   "metadata": {},
   "outputs": [
    {
     "name": "stdout",
     "output_type": "stream",
     "text": [
      "There is more than one way to say 'Hello World' in Julia!\n",
      "\tHello World!\n",
      "\tG'Day World!\n",
      "\tHowzit World!\n",
      "\n",
      "These are just perfect:\n",
      "0149162536496481100"
     ]
    },
    {
     "data": {
      "text/plain": [
       "11-element Vector{Float64}:\n",
       "  0.0\n",
       "  1.0\n",
       "  2.0\n",
       "  3.0\n",
       "  4.0\n",
       "  5.0\n",
       "  6.0\n",
       "  7.0\n",
       "  8.0\n",
       "  9.0\n",
       " 10.0"
      ]
     },
     "execution_count": 1,
     "metadata": {},
     "output_type": "execute_result"
    }
   ],
   "source": [
    "println(\"There is more than one way to say 'Hello World' in Julia!\")\n",
    "\n",
    "helloArray = [\"Hello\", \"G'Day\", \"Howzit\"]\n",
    "\n",
    "for i in 1:3\n",
    "    println(\"\\t\", helloArray[i], \" World!\")\n",
    "end\n",
    "\n",
    "println(\"\\nThese are just perfect:\")\n",
    "\n",
    "squares = [i^2 for i in 0:10]\n",
    "\n",
    "for s in squares\n",
    "    print(\"\", s)\n",
    "end\n",
    "\n",
    "sqrt.(squares)\n"
   ]
  },
  {
   "cell_type": "markdown",
   "id": "53d6737c",
   "metadata": {},
   "source": [
    "#### Function of x within A (Array)\n",
    "The language is cool loops inside the array ???"
   ]
  },
  {
   "cell_type": "code",
   "execution_count": 4,
   "id": "6d30b615",
   "metadata": {},
   "outputs": [
    {
     "name": "stdout",
     "output_type": "stream",
     "text": [
      "UnitRange{Int64} Vector{Int64} Vector{Float64}\n"
     ]
    },
    {
     "data": {
      "text/plain": [
       "(1:5, [9, 25, 49, 81, 121], [3.0, 5.0, 7.0, 9.0, 11.0])"
      ]
     },
     "execution_count": 4,
     "metadata": {},
     "output_type": "execute_result"
    }
   ],
   "source": [
    "array1 = [(2n+1)^2 for n in 1:5]\n",
    "array2 = [sqrt(i) for i in array1]\n",
    "println(typeof(1:5), \" \", typeof(array1), \" \", typeof(array2))\n",
    "1:5, array1, array2"
   ]
  },
  {
   "cell_type": "markdown",
   "id": "7764c981",
   "metadata": {},
   "source": [
    "## Efficiency and Speed + Use\n"
   ]
  },
  {
   "cell_type": "markdown",
   "id": "9f77ab5c",
   "metadata": {},
   "source": [
    "Slow Code Example"
   ]
  },
  {
   "cell_type": "code",
   "execution_count": 20,
   "id": "09b62de6",
   "metadata": {},
   "outputs": [
    {
     "name": "stdout",
     "output_type": "stream",
     "text": [
      "98% of the means lie in the estimated range: (0.46990412652433566, 0.5300502759737848)\n",
      "  2.038871 seconds (7.00 M allocations: 7.647 GiB, 15.34% gc time, 0.20% compilation time)\n"
     ]
    }
   ],
   "source": [
    "using Statistics\n",
    "\n",
    "@time begin\n",
    "    data = Float64[]\n",
    "    for _ in 1:10^6\n",
    "        group = Float64[]\n",
    "        for _ in 1:5*10^2\n",
    "            push!(group,rand())\n",
    "        end\n",
    "            push!(data,mean(group))\n",
    "        end\n",
    "        println(\"98% of the means lie in the estimated range: \",\n",
    "        (quantile(data, 0.01), quantile(data,0.99)) )\n",
    "    end"
   ]
  },
  {
   "cell_type": "markdown",
   "id": "173f5394",
   "metadata": {},
   "source": [
    "Fast Code"
   ]
  },
  {
   "cell_type": "code",
   "execution_count": 17,
   "id": "1160f359",
   "metadata": {},
   "outputs": [
    {
     "name": "stdout",
     "output_type": "stream",
     "text": [
      "98% of the means lie in the estimated range: (0.4700489893776949, 0.5300534060723362)\n",
      "  1.685686 seconds (3.78 M allocations: 3.934 GiB, 53.39% gc time, 17.24% compilation time)\n"
     ]
    }
   ],
   "source": [
    "using Statistics\n",
    " @time begin \n",
    "    data = [mean(rand(5*10^2)) for _ in 1:10^6]\n",
    "    println(\"98% of the means lie in the estimated range: \",\n",
    "    (quantile(data,0.01),quantile(data,0.99)) )\n",
    "    end\n"
   ]
  },
  {
   "cell_type": "markdown",
   "id": "fbdb9963",
   "metadata": {},
   "source": [
    "## Global & Local \n",
    "Forgot which otrher language has this but when using notebooks "
   ]
  },
  {
   "cell_type": "code",
   "execution_count": null,
   "id": "a3fb1abf",
   "metadata": {},
   "outputs": [],
   "source": []
  }
 ],
 "metadata": {
  "kernelspec": {
   "display_name": "Julia 1.11.5",
   "language": "julia",
   "name": "julia-1.11"
  },
  "language_info": {
   "file_extension": ".jl",
   "mimetype": "application/julia",
   "name": "julia",
   "version": "1.11.5"
  }
 },
 "nbformat": 4,
 "nbformat_minor": 5
}
